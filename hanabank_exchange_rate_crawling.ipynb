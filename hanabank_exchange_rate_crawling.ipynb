{
 "cells": [
  {
   "cell_type": "code",
   "execution_count": 22,
   "id": "bdff5bc5",
   "metadata": {},
   "outputs": [],
   "source": [
    "#!pip install selenium==4.1.5\n",
    "#!pip install webdriver_manager\n",
    "\n",
    "import selenium\n",
    "from selenium import webdriver\n",
    "from selenium.webdriver.chrome.service import Service # chromedriver 자동설치\n",
    "from webdriver_manager.chrome import ChromeDriverManager #chromedriver 자동설치\n",
    "from selenium.webdriver.common.by import By\n",
    "from selenium.webdriver.support.ui import WebDriverWait\n",
    "from selenium.webdriver.support import expected_conditions as EC\n",
    "service = Service(executable_path=ChromeDriverManager().install())\n",
    "driver = webdriver.Chrome(service=service)"
   ]
  },
  {
   "cell_type": "code",
   "execution_count": 20,
   "id": "4c10ae34",
   "metadata": {},
   "outputs": [],
   "source": [
    "# 인터넷 열기\n",
    "driver = webdriver.Chrome(service=service)"
   ]
  },
  {
   "cell_type": "code",
   "execution_count": 32,
   "id": "04c864bc",
   "metadata": {},
   "outputs": [],
   "source": [
    "#driver.get('https://www.kebhana.com/cont/mall/mall15/mall1501/index.jsp?_menuNo=23100&#35;//HanaBank')\n",
    "driver.get('https://www.kebhana.com/cms/rate/wpfxd651_01i_01.do?tmpInqStrDt=2023-03-25&pbldDvCd=3&inqStrDt=20230325&inqKindCd=1')"
   ]
  },
  {
   "cell_type": "code",
   "execution_count": 33,
   "id": "6981574d",
   "metadata": {},
   "outputs": [],
   "source": [
    "exchange_rate_table = driver.find_elements(By.CLASS_NAME, \"tblBasic\")\n",
    "print(exchange_rate_table)"
   ]
  },
  {
   "cell_type": "code",
   "execution_count": 40,
   "id": "34092b5c",
   "metadata": {},
   "outputs": [
    {
     "name": "stdout",
     "output_type": "stream",
     "text": [
      "<selenium.webdriver.remote.webelement.WebElement (session=\"bfed9edb586b2db67940b9c590ad6d8a\", element=\"f1a3f5a7-21c4-4cfe-8e61-9775bb689b83\")>\n"
     ]
    }
   ],
   "source": [
    "tbody = exchange_rate_table[0].find_element(By.TAG_NAME, \"tbody\")\n",
    "print(tbody)"
   ]
  },
  {
   "cell_type": "code",
   "execution_count": 41,
   "id": "fb42a702",
   "metadata": {},
   "outputs": [
    {
     "name": "stdout",
     "output_type": "stream",
     "text": [
      "[<selenium.webdriver.remote.webelement.WebElement (session=\"bfed9edb586b2db67940b9c590ad6d8a\", element=\"8ccc1b3e-4c46-4244-8f30-d35b58083318\")>, <selenium.webdriver.remote.webelement.WebElement (session=\"bfed9edb586b2db67940b9c590ad6d8a\", element=\"a92ec5a4-a6cf-438a-a022-2733fb798cbf\")>, <selenium.webdriver.remote.webelement.WebElement (session=\"bfed9edb586b2db67940b9c590ad6d8a\", element=\"bbcfd73f-6b22-4c30-863f-67ebf3d8aafe\")>, <selenium.webdriver.remote.webelement.WebElement (session=\"bfed9edb586b2db67940b9c590ad6d8a\", element=\"64edfac2-dc8d-43ac-8c56-0660fc6e8546\")>, <selenium.webdriver.remote.webelement.WebElement (session=\"bfed9edb586b2db67940b9c590ad6d8a\", element=\"11ffc463-b6a9-43e5-8102-c9d29a1a5a67\")>, <selenium.webdriver.remote.webelement.WebElement (session=\"bfed9edb586b2db67940b9c590ad6d8a\", element=\"e7175eff-13da-4019-86a5-8abfd74a1e84\")>, <selenium.webdriver.remote.webelement.WebElement (session=\"bfed9edb586b2db67940b9c590ad6d8a\", element=\"91d918b3-9573-4512-803d-051270050368\")>, <selenium.webdriver.remote.webelement.WebElement (session=\"bfed9edb586b2db67940b9c590ad6d8a\", element=\"7d7f17d9-4845-42ca-8f6f-959bad5c874c\")>, <selenium.webdriver.remote.webelement.WebElement (session=\"bfed9edb586b2db67940b9c590ad6d8a\", element=\"631d3e3b-53a0-46aa-921f-3f6e39298a95\")>, <selenium.webdriver.remote.webelement.WebElement (session=\"bfed9edb586b2db67940b9c590ad6d8a\", element=\"68ca37b6-c3fa-4e4b-830e-ad63df19e63f\")>, <selenium.webdriver.remote.webelement.WebElement (session=\"bfed9edb586b2db67940b9c590ad6d8a\", element=\"1395e41c-4be2-4860-a6e5-c86b27728e87\")>, <selenium.webdriver.remote.webelement.WebElement (session=\"bfed9edb586b2db67940b9c590ad6d8a\", element=\"3d9e1848-b89c-4fe0-a02c-2f20e0b9bcff\")>, <selenium.webdriver.remote.webelement.WebElement (session=\"bfed9edb586b2db67940b9c590ad6d8a\", element=\"18e62cc7-ed42-4ecc-91b1-2f105e7f3457\")>, <selenium.webdriver.remote.webelement.WebElement (session=\"bfed9edb586b2db67940b9c590ad6d8a\", element=\"a25d5c05-fb7b-4749-9df3-73cfe3dcfa82\")>, <selenium.webdriver.remote.webelement.WebElement (session=\"bfed9edb586b2db67940b9c590ad6d8a\", element=\"c5741516-e2b7-4b74-8911-606ba48d1883\")>, <selenium.webdriver.remote.webelement.WebElement (session=\"bfed9edb586b2db67940b9c590ad6d8a\", element=\"803e5e29-0e78-4fcd-a1f0-454ead680f2a\")>, <selenium.webdriver.remote.webelement.WebElement (session=\"bfed9edb586b2db67940b9c590ad6d8a\", element=\"97b82c24-cbef-439e-a43c-3d464d93fcba\")>, <selenium.webdriver.remote.webelement.WebElement (session=\"bfed9edb586b2db67940b9c590ad6d8a\", element=\"de600202-ba4f-486a-9ded-d65d39f5551b\")>, <selenium.webdriver.remote.webelement.WebElement (session=\"bfed9edb586b2db67940b9c590ad6d8a\", element=\"688c1563-bce0-4140-8c47-619e0f149064\")>, <selenium.webdriver.remote.webelement.WebElement (session=\"bfed9edb586b2db67940b9c590ad6d8a\", element=\"983ecea8-ee2c-45a9-8ef9-bf05f893ce58\")>, <selenium.webdriver.remote.webelement.WebElement (session=\"bfed9edb586b2db67940b9c590ad6d8a\", element=\"1a317dd7-0812-427e-ad29-b6bda2fa32db\")>, <selenium.webdriver.remote.webelement.WebElement (session=\"bfed9edb586b2db67940b9c590ad6d8a\", element=\"e9b80704-ac17-45c5-8026-aca049341b61\")>, <selenium.webdriver.remote.webelement.WebElement (session=\"bfed9edb586b2db67940b9c590ad6d8a\", element=\"dee7cfb5-3008-47bf-bf9f-880afc6810c8\")>, <selenium.webdriver.remote.webelement.WebElement (session=\"bfed9edb586b2db67940b9c590ad6d8a\", element=\"e2b80751-be24-4219-9944-0852972b7a1f\")>, <selenium.webdriver.remote.webelement.WebElement (session=\"bfed9edb586b2db67940b9c590ad6d8a\", element=\"a599d8a0-8e82-4a78-a10a-f289908db305\")>, <selenium.webdriver.remote.webelement.WebElement (session=\"bfed9edb586b2db67940b9c590ad6d8a\", element=\"233e616c-6cb0-47fa-bdd7-1d59ee1ac2ee\")>, <selenium.webdriver.remote.webelement.WebElement (session=\"bfed9edb586b2db67940b9c590ad6d8a\", element=\"8785c391-02b5-4f6f-9729-c62052539d7f\")>, <selenium.webdriver.remote.webelement.WebElement (session=\"bfed9edb586b2db67940b9c590ad6d8a\", element=\"1a9e23d1-88ea-47a5-9dec-45d161e1adba\")>, <selenium.webdriver.remote.webelement.WebElement (session=\"bfed9edb586b2db67940b9c590ad6d8a\", element=\"48d339f0-e653-4947-acd1-673fd5503c78\")>, <selenium.webdriver.remote.webelement.WebElement (session=\"bfed9edb586b2db67940b9c590ad6d8a\", element=\"09630711-3ba3-4bee-96a6-6c80ee348885\")>, <selenium.webdriver.remote.webelement.WebElement (session=\"bfed9edb586b2db67940b9c590ad6d8a\", element=\"a0173cce-0170-4f93-bc67-afe7b238c327\")>, <selenium.webdriver.remote.webelement.WebElement (session=\"bfed9edb586b2db67940b9c590ad6d8a\", element=\"16f42006-c06d-4fa1-ad0f-06a5d7b49607\")>, <selenium.webdriver.remote.webelement.WebElement (session=\"bfed9edb586b2db67940b9c590ad6d8a\", element=\"3e8cf7d1-6ed1-44cf-a4c9-77c8dfa756d6\")>, <selenium.webdriver.remote.webelement.WebElement (session=\"bfed9edb586b2db67940b9c590ad6d8a\", element=\"69ceadba-11c0-4113-8a9b-dd0a82fb4276\")>, <selenium.webdriver.remote.webelement.WebElement (session=\"bfed9edb586b2db67940b9c590ad6d8a\", element=\"81e27150-2501-49f9-bced-faf153fa18a1\")>, <selenium.webdriver.remote.webelement.WebElement (session=\"bfed9edb586b2db67940b9c590ad6d8a\", element=\"58c7af13-6f95-4805-a5f8-8835146edcab\")>, <selenium.webdriver.remote.webelement.WebElement (session=\"bfed9edb586b2db67940b9c590ad6d8a\", element=\"fe9bde70-c0a4-4feb-a69c-3f2cd49450e9\")>, <selenium.webdriver.remote.webelement.WebElement (session=\"bfed9edb586b2db67940b9c590ad6d8a\", element=\"c2a9d73f-772a-4698-900e-81aa5e7792c2\")>, <selenium.webdriver.remote.webelement.WebElement (session=\"bfed9edb586b2db67940b9c590ad6d8a\", element=\"3d8b21c3-ece1-4aba-935b-c011ba67dca0\")>, <selenium.webdriver.remote.webelement.WebElement (session=\"bfed9edb586b2db67940b9c590ad6d8a\", element=\"2a5dda43-3182-4ad1-9d49-683ba6c4df0b\")>, <selenium.webdriver.remote.webelement.WebElement (session=\"bfed9edb586b2db67940b9c590ad6d8a\", element=\"b36ab42b-2c47-4657-ba33-f1d6b7aece8a\")>, <selenium.webdriver.remote.webelement.WebElement (session=\"bfed9edb586b2db67940b9c590ad6d8a\", element=\"413959aa-1a9a-4f8b-af08-af833803f9ee\")>, <selenium.webdriver.remote.webelement.WebElement (session=\"bfed9edb586b2db67940b9c590ad6d8a\", element=\"81289ea7-736f-4c92-9956-01d92c30ea10\")>, <selenium.webdriver.remote.webelement.WebElement (session=\"bfed9edb586b2db67940b9c590ad6d8a\", element=\"1caa984b-2eba-4217-a9a3-a8ee18a8f553\")>, <selenium.webdriver.remote.webelement.WebElement (session=\"bfed9edb586b2db67940b9c590ad6d8a\", element=\"5eb49ef0-ba0c-4a07-9428-9c945fd919a8\")>, <selenium.webdriver.remote.webelement.WebElement (session=\"bfed9edb586b2db67940b9c590ad6d8a\", element=\"39620c77-f360-46d4-b1fb-49d851650ad3\")>, <selenium.webdriver.remote.webelement.WebElement (session=\"bfed9edb586b2db67940b9c590ad6d8a\", element=\"7e299e32-140a-41ec-8d0e-f9b7b295f862\")>, <selenium.webdriver.remote.webelement.WebElement (session=\"bfed9edb586b2db67940b9c590ad6d8a\", element=\"270b9ae4-cb77-4c2c-ba42-aecf9be08968\")>, <selenium.webdriver.remote.webelement.WebElement (session=\"bfed9edb586b2db67940b9c590ad6d8a\", element=\"886cd0f7-09ff-4bcd-8ed2-35153574ee93\")>, <selenium.webdriver.remote.webelement.WebElement (session=\"bfed9edb586b2db67940b9c590ad6d8a\", element=\"9fdcb955-0606-46fd-abf4-56a8a413014f\")>, <selenium.webdriver.remote.webelement.WebElement (session=\"bfed9edb586b2db67940b9c590ad6d8a\", element=\"f1cec7d9-6ee0-4756-aed4-cda1c13e5edf\")>, <selenium.webdriver.remote.webelement.WebElement (session=\"bfed9edb586b2db67940b9c590ad6d8a\", element=\"915bdb11-a94c-4405-93eb-65e0d68bccb8\")>, <selenium.webdriver.remote.webelement.WebElement (session=\"bfed9edb586b2db67940b9c590ad6d8a\", element=\"de72a34c-5580-4248-a788-aed40ecd9142\")>, <selenium.webdriver.remote.webelement.WebElement (session=\"bfed9edb586b2db67940b9c590ad6d8a\", element=\"3e71da13-ae9e-4fd9-a3ab-5aff52e7188b\")>, <selenium.webdriver.remote.webelement.WebElement (session=\"bfed9edb586b2db67940b9c590ad6d8a\", element=\"af5d57f2-d7f4-4b3f-9240-1d771ad5687c\")>, <selenium.webdriver.remote.webelement.WebElement (session=\"bfed9edb586b2db67940b9c590ad6d8a\", element=\"32ee1b4b-715b-4652-90a6-73013bfa7511\")>, <selenium.webdriver.remote.webelement.WebElement (session=\"bfed9edb586b2db67940b9c590ad6d8a\", element=\"1bd9272e-7d07-4fed-8a34-3251fc66088d\")>, <selenium.webdriver.remote.webelement.WebElement (session=\"bfed9edb586b2db67940b9c590ad6d8a\", element=\"45abda69-5556-4952-b866-4967d194ae5c\")>]\n"
     ]
    }
   ],
   "source": [
    "tr = tbody.find_elements(By.TAG_NAME, \"tr\")\n",
    "print(tr)"
   ]
  },
  {
   "cell_type": "code",
   "execution_count": 49,
   "id": "5e2a61a2",
   "metadata": {},
   "outputs": [
    {
     "name": "stdout",
     "output_type": "stream",
     "text": [
      "미국 USD 1,300.00\n",
      "일본 JPY (100) 994.53\n",
      "유로 EUR 1,398.93\n",
      "중국 CNY 189.23\n",
      "홍콩 HKD 165.61\n",
      "태국 THB 38.02\n",
      "대만 TWD 42.85\n",
      "필리핀 PHP 23.95\n",
      "싱가포르 SGD 976.16\n",
      "호주 AUD 864.11\n",
      "베트남 VND (100) 5.53\n",
      "영국 GBP 1,589.77\n",
      "캐나다 CAD 946.14\n",
      "말레이시아 MYR 293.59\n",
      "러시아 RUB 16.82\n",
      "남아공화국 ZAR 71.55\n",
      "노르웨이 NOK 123.95\n",
      "뉴질랜드 NZD 806.13\n",
      "덴마크 DKK 187.72\n",
      "멕시코 MXN 70.46\n",
      "몽골 MNT 0.37\n",
      "바레인 BHD 3,447.54\n",
      "방글라데시 BDT 12.37\n",
      "브라질 BRL 247.48\n",
      "브루나이 BND 976.16\n",
      "사우디아라비아 SAR 346.06\n",
      "스리랑카 LKR 4.04\n",
      "스웨덴 SEK 124.68\n",
      "스위스 CHF 1,413.73\n",
      "아랍에미리트공화국 AED 353.99\n",
      "알제리 DZD 9.55\n",
      "오만 OMR 3,376.80\n",
      "요르단 JOD 1,832.66\n",
      "이스라엘 ILS 362.08\n",
      "이집트 EGP 42.07\n",
      "인도 INR 15.78\n",
      "인도네시아 IDR (100) 8.60\n",
      "체코 CZK 59.08\n",
      "칠레 CLP 1.60\n",
      "카자흐스탄 KZT 2.84\n",
      "카타르 QAR 357.14\n",
      "케냐 KES 9.89\n",
      "콜롬비아 COP 0.27\n",
      "쿠웨이트 KWD 4,246.01\n",
      "탄자니아 TZS 0.56\n",
      "터어키 TRY 68.19\n",
      "파키스탄 PKR 4.60\n",
      "폴란드 PLN 298.40\n",
      "헝가리 HUF 3.63\n",
      "네팔 NPR 9.85\n",
      "마카오 MOP 160.67\n",
      "캄보디아 KHR 0.32\n",
      "피지 FJD 586.04\n",
      "리비아 LYD 273.18\n",
      "루마니아 RON 283.81\n",
      "미얀마 MMK 0.62\n",
      "에티오피아 ETB 24.13\n",
      "우즈베키스탄 UZS 0.11\n"
     ]
    }
   ],
   "source": [
    "nation = []\n",
    "exrate = []\n",
    "for item in tr:\n",
    "    td = item.find_elements(By.TAG_NAME, \"td\")\n",
    "    print(td[0].text, td[9].text)\n",
    "    nation.append(td[0].text)\n",
    "    exrate.append(td[9].text)"
   ]
  },
  {
   "cell_type": "code",
   "execution_count": 51,
   "id": "15194fab",
   "metadata": {},
   "outputs": [
    {
     "name": "stdout",
     "output_type": "stream",
     "text": [
      "                 국가        환율\n",
      "0            미국 USD  1,300.00\n",
      "1      일본 JPY (100)    994.53\n",
      "2            유로 EUR  1,398.93\n",
      "3            중국 CNY    189.23\n",
      "4            홍콩 HKD    165.61\n",
      "5            태국 THB     38.02\n",
      "6            대만 TWD     42.85\n",
      "7           필리핀 PHP     23.95\n",
      "8          싱가포르 SGD    976.16\n",
      "9            호주 AUD    864.11\n",
      "10    베트남 VND (100)      5.53\n",
      "11           영국 GBP  1,589.77\n",
      "12          캐나다 CAD    946.14\n",
      "13        말레이시아 MYR    293.59\n",
      "14          러시아 RUB     16.82\n",
      "15        남아공화국 ZAR     71.55\n",
      "16         노르웨이 NOK    123.95\n",
      "17         뉴질랜드 NZD    806.13\n",
      "18          덴마크 DKK    187.72\n",
      "19          멕시코 MXN     70.46\n",
      "20           몽골 MNT      0.37\n",
      "21          바레인 BHD  3,447.54\n",
      "22        방글라데시 BDT     12.37\n",
      "23          브라질 BRL    247.48\n",
      "24         브루나이 BND    976.16\n",
      "25      사우디아라비아 SAR    346.06\n",
      "26         스리랑카 LKR      4.04\n",
      "27          스웨덴 SEK    124.68\n",
      "28          스위스 CHF  1,413.73\n",
      "29    아랍에미리트공화국 AED    353.99\n",
      "30          알제리 DZD      9.55\n",
      "31           오만 OMR  3,376.80\n",
      "32          요르단 JOD  1,832.66\n",
      "33         이스라엘 ILS    362.08\n",
      "34          이집트 EGP     42.07\n",
      "35           인도 INR     15.78\n",
      "36  인도네시아 IDR (100)      8.60\n",
      "37           체코 CZK     59.08\n",
      "38           칠레 CLP      1.60\n",
      "39        카자흐스탄 KZT      2.84\n",
      "40          카타르 QAR    357.14\n",
      "41           케냐 KES      9.89\n",
      "42         콜롬비아 COP      0.27\n",
      "43         쿠웨이트 KWD  4,246.01\n",
      "44         탄자니아 TZS      0.56\n",
      "45          터어키 TRY     68.19\n",
      "46         파키스탄 PKR      4.60\n",
      "47          폴란드 PLN    298.40\n",
      "48          헝가리 HUF      3.63\n",
      "49           네팔 NPR      9.85\n",
      "50          마카오 MOP    160.67\n",
      "51         캄보디아 KHR      0.32\n",
      "52           피지 FJD    586.04\n",
      "53          리비아 LYD    273.18\n",
      "54         루마니아 RON    283.81\n",
      "55          미얀마 MMK      0.62\n",
      "56        에티오피아 ETB     24.13\n",
      "57       우즈베키스탄 UZS      0.11\n"
     ]
    }
   ],
   "source": [
    "import pandas as pd\n",
    "\n",
    "df = pd.DataFrame({'국가':nation, '환율':exrate})\n",
    "print(df)\n",
    "\n",
    "df.to_excel(\"hanabank_exchange_rate.xlsx\")"
   ]
  }
 ],
 "metadata": {
  "kernelspec": {
   "display_name": "Python 3",
   "language": "python",
   "name": "python3"
  },
  "language_info": {
   "codemirror_mode": {
    "name": "ipython",
    "version": 3
   },
   "file_extension": ".py",
   "mimetype": "text/x-python",
   "name": "python",
   "nbconvert_exporter": "python",
   "pygments_lexer": "ipython3",
   "version": "3.9.13"
  }
 },
 "nbformat": 4,
 "nbformat_minor": 5
}
